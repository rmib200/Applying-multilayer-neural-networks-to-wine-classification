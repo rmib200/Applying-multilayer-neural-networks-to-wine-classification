{
 "cells": [
  {
   "cell_type": "code",
   "execution_count": 6,
   "metadata": {},
   "outputs": [],
   "source": [
    "import pandas as pd\n"
   ]
  },
  {
   "cell_type": "code",
   "execution_count": 3,
   "metadata": {},
   "outputs": [
    {
     "name": "stdout",
     "output_type": "stream",
     "text": [
      "E:\\Desktop2\\_code\\wine\n"
     ]
    }
   ],
   "source": [
    "cd E:\\Desktop2\\_code\\wine"
   ]
  },
  {
   "cell_type": "code",
   "execution_count": 9,
   "metadata": {},
   "outputs": [
    {
     "data": {
      "text/html": [
       "<div>\n",
       "<style scoped>\n",
       "    .dataframe tbody tr th:only-of-type {\n",
       "        vertical-align: middle;\n",
       "    }\n",
       "\n",
       "    .dataframe tbody tr th {\n",
       "        vertical-align: top;\n",
       "    }\n",
       "\n",
       "    .dataframe thead th {\n",
       "        text-align: right;\n",
       "    }\n",
       "</style>\n",
       "<table border=\"1\" class=\"dataframe\">\n",
       "  <thead>\n",
       "    <tr style=\"text-align: right;\">\n",
       "      <th></th>\n",
       "      <th>Cultivator</th>\n",
       "      <th>Alchol</th>\n",
       "      <th>Malic_Acid</th>\n",
       "      <th>Ash</th>\n",
       "      <th>Alcalinity_of_Ash</th>\n",
       "      <th>Magnesium</th>\n",
       "      <th>Total_phenols</th>\n",
       "      <th>Falvanoids</th>\n",
       "      <th>Nonflavanoid_phenols</th>\n",
       "      <th>Proanthocyanins</th>\n",
       "      <th>Color_intensity</th>\n",
       "      <th>Hue</th>\n",
       "      <th>OD280</th>\n",
       "      <th>Proline</th>\n",
       "    </tr>\n",
       "  </thead>\n",
       "  <tbody>\n",
       "    <tr>\n",
       "      <th>0</th>\n",
       "      <td>1</td>\n",
       "      <td>14.23</td>\n",
       "      <td>1.71</td>\n",
       "      <td>2.43</td>\n",
       "      <td>15.6</td>\n",
       "      <td>127</td>\n",
       "      <td>2.80</td>\n",
       "      <td>3.06</td>\n",
       "      <td>0.28</td>\n",
       "      <td>2.29</td>\n",
       "      <td>5.64</td>\n",
       "      <td>1.04</td>\n",
       "      <td>3.92</td>\n",
       "      <td>1065</td>\n",
       "    </tr>\n",
       "    <tr>\n",
       "      <th>1</th>\n",
       "      <td>1</td>\n",
       "      <td>13.20</td>\n",
       "      <td>1.78</td>\n",
       "      <td>2.14</td>\n",
       "      <td>11.2</td>\n",
       "      <td>100</td>\n",
       "      <td>2.65</td>\n",
       "      <td>2.76</td>\n",
       "      <td>0.26</td>\n",
       "      <td>1.28</td>\n",
       "      <td>4.38</td>\n",
       "      <td>1.05</td>\n",
       "      <td>3.40</td>\n",
       "      <td>1050</td>\n",
       "    </tr>\n",
       "    <tr>\n",
       "      <th>2</th>\n",
       "      <td>1</td>\n",
       "      <td>13.16</td>\n",
       "      <td>2.36</td>\n",
       "      <td>2.67</td>\n",
       "      <td>18.6</td>\n",
       "      <td>101</td>\n",
       "      <td>2.80</td>\n",
       "      <td>3.24</td>\n",
       "      <td>0.30</td>\n",
       "      <td>2.81</td>\n",
       "      <td>5.68</td>\n",
       "      <td>1.03</td>\n",
       "      <td>3.17</td>\n",
       "      <td>1185</td>\n",
       "    </tr>\n",
       "    <tr>\n",
       "      <th>3</th>\n",
       "      <td>1</td>\n",
       "      <td>14.37</td>\n",
       "      <td>1.95</td>\n",
       "      <td>2.50</td>\n",
       "      <td>16.8</td>\n",
       "      <td>113</td>\n",
       "      <td>3.85</td>\n",
       "      <td>3.49</td>\n",
       "      <td>0.24</td>\n",
       "      <td>2.18</td>\n",
       "      <td>7.80</td>\n",
       "      <td>0.86</td>\n",
       "      <td>3.45</td>\n",
       "      <td>1480</td>\n",
       "    </tr>\n",
       "    <tr>\n",
       "      <th>4</th>\n",
       "      <td>1</td>\n",
       "      <td>13.24</td>\n",
       "      <td>2.59</td>\n",
       "      <td>2.87</td>\n",
       "      <td>21.0</td>\n",
       "      <td>118</td>\n",
       "      <td>2.80</td>\n",
       "      <td>2.69</td>\n",
       "      <td>0.39</td>\n",
       "      <td>1.82</td>\n",
       "      <td>4.32</td>\n",
       "      <td>1.04</td>\n",
       "      <td>2.93</td>\n",
       "      <td>735</td>\n",
       "    </tr>\n",
       "  </tbody>\n",
       "</table>\n",
       "</div>"
      ],
      "text/plain": [
       "   Cultivator  Alchol  Malic_Acid   Ash  Alcalinity_of_Ash  Magnesium  \\\n",
       "0           1   14.23        1.71  2.43               15.6        127   \n",
       "1           1   13.20        1.78  2.14               11.2        100   \n",
       "2           1   13.16        2.36  2.67               18.6        101   \n",
       "3           1   14.37        1.95  2.50               16.8        113   \n",
       "4           1   13.24        2.59  2.87               21.0        118   \n",
       "\n",
       "   Total_phenols  Falvanoids  Nonflavanoid_phenols  Proanthocyanins  \\\n",
       "0           2.80        3.06                  0.28             2.29   \n",
       "1           2.65        2.76                  0.26             1.28   \n",
       "2           2.80        3.24                  0.30             2.81   \n",
       "3           3.85        3.49                  0.24             2.18   \n",
       "4           2.80        2.69                  0.39             1.82   \n",
       "\n",
       "   Color_intensity   Hue  OD280  Proline  \n",
       "0             5.64  1.04   3.92     1065  \n",
       "1             4.38  1.05   3.40     1050  \n",
       "2             5.68  1.03   3.17     1185  \n",
       "3             7.80  0.86   3.45     1480  \n",
       "4             4.32  1.04   2.93      735  "
      ]
     },
     "execution_count": 9,
     "metadata": {},
     "output_type": "execute_result"
    }
   ],
   "source": [
    "wine = pd.read_csv('wine_data.csv', names =  [\"Cultivator\", \"Alchol\", \"Malic_Acid\", \"Ash\", \"Alcalinity_of_Ash\", \"Magnesium\", \"Total_phenols\", \"Falvanoids\", \"Nonflavanoid_phenols\", \"Proanthocyanins\", \"Color_intensity\", \"Hue\", \"OD280\", \"Proline\"]) \n",
    "wine.head()"
   ]
  },
  {
   "cell_type": "code",
   "execution_count": 10,
   "metadata": {},
   "outputs": [
    {
     "data": {
      "text/html": [
       "<div>\n",
       "<style scoped>\n",
       "    .dataframe tbody tr th:only-of-type {\n",
       "        vertical-align: middle;\n",
       "    }\n",
       "\n",
       "    .dataframe tbody tr th {\n",
       "        vertical-align: top;\n",
       "    }\n",
       "\n",
       "    .dataframe thead th {\n",
       "        text-align: right;\n",
       "    }\n",
       "</style>\n",
       "<table border=\"1\" class=\"dataframe\">\n",
       "  <thead>\n",
       "    <tr style=\"text-align: right;\">\n",
       "      <th></th>\n",
       "      <th>count</th>\n",
       "      <th>mean</th>\n",
       "      <th>std</th>\n",
       "      <th>min</th>\n",
       "      <th>25%</th>\n",
       "      <th>50%</th>\n",
       "      <th>75%</th>\n",
       "      <th>max</th>\n",
       "    </tr>\n",
       "  </thead>\n",
       "  <tbody>\n",
       "    <tr>\n",
       "      <th>Cultivator</th>\n",
       "      <td>178.0</td>\n",
       "      <td>1.938202</td>\n",
       "      <td>0.775035</td>\n",
       "      <td>1.00</td>\n",
       "      <td>1.0000</td>\n",
       "      <td>2.000</td>\n",
       "      <td>3.0000</td>\n",
       "      <td>3.00</td>\n",
       "    </tr>\n",
       "    <tr>\n",
       "      <th>Alchol</th>\n",
       "      <td>178.0</td>\n",
       "      <td>13.000618</td>\n",
       "      <td>0.811827</td>\n",
       "      <td>11.03</td>\n",
       "      <td>12.3625</td>\n",
       "      <td>13.050</td>\n",
       "      <td>13.6775</td>\n",
       "      <td>14.83</td>\n",
       "    </tr>\n",
       "    <tr>\n",
       "      <th>Malic_Acid</th>\n",
       "      <td>178.0</td>\n",
       "      <td>2.336348</td>\n",
       "      <td>1.117146</td>\n",
       "      <td>0.74</td>\n",
       "      <td>1.6025</td>\n",
       "      <td>1.865</td>\n",
       "      <td>3.0825</td>\n",
       "      <td>5.80</td>\n",
       "    </tr>\n",
       "    <tr>\n",
       "      <th>Ash</th>\n",
       "      <td>178.0</td>\n",
       "      <td>2.366517</td>\n",
       "      <td>0.274344</td>\n",
       "      <td>1.36</td>\n",
       "      <td>2.2100</td>\n",
       "      <td>2.360</td>\n",
       "      <td>2.5575</td>\n",
       "      <td>3.23</td>\n",
       "    </tr>\n",
       "    <tr>\n",
       "      <th>Alcalinity_of_Ash</th>\n",
       "      <td>178.0</td>\n",
       "      <td>19.494944</td>\n",
       "      <td>3.339564</td>\n",
       "      <td>10.60</td>\n",
       "      <td>17.2000</td>\n",
       "      <td>19.500</td>\n",
       "      <td>21.5000</td>\n",
       "      <td>30.00</td>\n",
       "    </tr>\n",
       "    <tr>\n",
       "      <th>Magnesium</th>\n",
       "      <td>178.0</td>\n",
       "      <td>99.741573</td>\n",
       "      <td>14.282484</td>\n",
       "      <td>70.00</td>\n",
       "      <td>88.0000</td>\n",
       "      <td>98.000</td>\n",
       "      <td>107.0000</td>\n",
       "      <td>162.00</td>\n",
       "    </tr>\n",
       "    <tr>\n",
       "      <th>Total_phenols</th>\n",
       "      <td>178.0</td>\n",
       "      <td>2.295112</td>\n",
       "      <td>0.625851</td>\n",
       "      <td>0.98</td>\n",
       "      <td>1.7425</td>\n",
       "      <td>2.355</td>\n",
       "      <td>2.8000</td>\n",
       "      <td>3.88</td>\n",
       "    </tr>\n",
       "    <tr>\n",
       "      <th>Falvanoids</th>\n",
       "      <td>178.0</td>\n",
       "      <td>2.029270</td>\n",
       "      <td>0.998859</td>\n",
       "      <td>0.34</td>\n",
       "      <td>1.2050</td>\n",
       "      <td>2.135</td>\n",
       "      <td>2.8750</td>\n",
       "      <td>5.08</td>\n",
       "    </tr>\n",
       "    <tr>\n",
       "      <th>Nonflavanoid_phenols</th>\n",
       "      <td>178.0</td>\n",
       "      <td>0.361854</td>\n",
       "      <td>0.124453</td>\n",
       "      <td>0.13</td>\n",
       "      <td>0.2700</td>\n",
       "      <td>0.340</td>\n",
       "      <td>0.4375</td>\n",
       "      <td>0.66</td>\n",
       "    </tr>\n",
       "    <tr>\n",
       "      <th>Proanthocyanins</th>\n",
       "      <td>178.0</td>\n",
       "      <td>1.590899</td>\n",
       "      <td>0.572359</td>\n",
       "      <td>0.41</td>\n",
       "      <td>1.2500</td>\n",
       "      <td>1.555</td>\n",
       "      <td>1.9500</td>\n",
       "      <td>3.58</td>\n",
       "    </tr>\n",
       "    <tr>\n",
       "      <th>Color_intensity</th>\n",
       "      <td>178.0</td>\n",
       "      <td>5.058090</td>\n",
       "      <td>2.318286</td>\n",
       "      <td>1.28</td>\n",
       "      <td>3.2200</td>\n",
       "      <td>4.690</td>\n",
       "      <td>6.2000</td>\n",
       "      <td>13.00</td>\n",
       "    </tr>\n",
       "    <tr>\n",
       "      <th>Hue</th>\n",
       "      <td>178.0</td>\n",
       "      <td>0.957449</td>\n",
       "      <td>0.228572</td>\n",
       "      <td>0.48</td>\n",
       "      <td>0.7825</td>\n",
       "      <td>0.965</td>\n",
       "      <td>1.1200</td>\n",
       "      <td>1.71</td>\n",
       "    </tr>\n",
       "    <tr>\n",
       "      <th>OD280</th>\n",
       "      <td>178.0</td>\n",
       "      <td>2.611685</td>\n",
       "      <td>0.709990</td>\n",
       "      <td>1.27</td>\n",
       "      <td>1.9375</td>\n",
       "      <td>2.780</td>\n",
       "      <td>3.1700</td>\n",
       "      <td>4.00</td>\n",
       "    </tr>\n",
       "    <tr>\n",
       "      <th>Proline</th>\n",
       "      <td>178.0</td>\n",
       "      <td>746.893258</td>\n",
       "      <td>314.907474</td>\n",
       "      <td>278.00</td>\n",
       "      <td>500.5000</td>\n",
       "      <td>673.500</td>\n",
       "      <td>985.0000</td>\n",
       "      <td>1680.00</td>\n",
       "    </tr>\n",
       "  </tbody>\n",
       "</table>\n",
       "</div>"
      ],
      "text/plain": [
       "                      count        mean         std     min       25%  \\\n",
       "Cultivator            178.0    1.938202    0.775035    1.00    1.0000   \n",
       "Alchol                178.0   13.000618    0.811827   11.03   12.3625   \n",
       "Malic_Acid            178.0    2.336348    1.117146    0.74    1.6025   \n",
       "Ash                   178.0    2.366517    0.274344    1.36    2.2100   \n",
       "Alcalinity_of_Ash     178.0   19.494944    3.339564   10.60   17.2000   \n",
       "Magnesium             178.0   99.741573   14.282484   70.00   88.0000   \n",
       "Total_phenols         178.0    2.295112    0.625851    0.98    1.7425   \n",
       "Falvanoids            178.0    2.029270    0.998859    0.34    1.2050   \n",
       "Nonflavanoid_phenols  178.0    0.361854    0.124453    0.13    0.2700   \n",
       "Proanthocyanins       178.0    1.590899    0.572359    0.41    1.2500   \n",
       "Color_intensity       178.0    5.058090    2.318286    1.28    3.2200   \n",
       "Hue                   178.0    0.957449    0.228572    0.48    0.7825   \n",
       "OD280                 178.0    2.611685    0.709990    1.27    1.9375   \n",
       "Proline               178.0  746.893258  314.907474  278.00  500.5000   \n",
       "\n",
       "                          50%       75%      max  \n",
       "Cultivator              2.000    3.0000     3.00  \n",
       "Alchol                 13.050   13.6775    14.83  \n",
       "Malic_Acid              1.865    3.0825     5.80  \n",
       "Ash                     2.360    2.5575     3.23  \n",
       "Alcalinity_of_Ash      19.500   21.5000    30.00  \n",
       "Magnesium              98.000  107.0000   162.00  \n",
       "Total_phenols           2.355    2.8000     3.88  \n",
       "Falvanoids              2.135    2.8750     5.08  \n",
       "Nonflavanoid_phenols    0.340    0.4375     0.66  \n",
       "Proanthocyanins         1.555    1.9500     3.58  \n",
       "Color_intensity         4.690    6.2000    13.00  \n",
       "Hue                     0.965    1.1200     1.71  \n",
       "OD280                   2.780    3.1700     4.00  \n",
       "Proline               673.500  985.0000  1680.00  "
      ]
     },
     "execution_count": 10,
     "metadata": {},
     "output_type": "execute_result"
    }
   ],
   "source": [
    "wine.describe().T"
   ]
  },
  {
   "cell_type": "code",
   "execution_count": 12,
   "metadata": {},
   "outputs": [
    {
     "data": {
      "text/plain": [
       "(178, 14)"
      ]
     },
     "execution_count": 12,
     "metadata": {},
     "output_type": "execute_result"
    }
   ],
   "source": [
    "wine.shape"
   ]
  },
  {
   "cell_type": "code",
   "execution_count": 16,
   "metadata": {},
   "outputs": [
    {
     "name": "stdout",
     "output_type": "stream",
     "text": [
      "   Alchol  Malic_Acid   Ash  Alcalinity_of_Ash  Magnesium  Total_phenols  \\\n",
      "0   14.23        1.71  2.43               15.6        127           2.80   \n",
      "1   13.20        1.78  2.14               11.2        100           2.65   \n",
      "2   13.16        2.36  2.67               18.6        101           2.80   \n",
      "3   14.37        1.95  2.50               16.8        113           3.85   \n",
      "4   13.24        2.59  2.87               21.0        118           2.80   \n",
      "\n",
      "   Falvanoids  Nonflavanoid_phenols  Proanthocyanins  Color_intensity   Hue  \\\n",
      "0        3.06                  0.28             2.29             5.64  1.04   \n",
      "1        2.76                  0.26             1.28             4.38  1.05   \n",
      "2        3.24                  0.30             2.81             5.68  1.03   \n",
      "3        3.49                  0.24             2.18             7.80  0.86   \n",
      "4        2.69                  0.39             1.82             4.32  1.04   \n",
      "\n",
      "   OD280  Proline  \n",
      "0   3.92     1065  \n",
      "1   3.40     1050  \n",
      "2   3.17     1185  \n",
      "3   3.45     1480  \n",
      "4   2.93      735   \n",
      " 0    1\n",
      "1    1\n",
      "2    1\n",
      "3    1\n",
      "4    1\n",
      "Name: Cultivator, dtype: int64\n"
     ]
    }
   ],
   "source": [
    "#Set up data and labels\n",
    "X = wine.drop(\"Cultivator\", axis=1)\n",
    "y = wine[\"Cultivator\"]\n",
    "\n",
    "print(X.head(),\"\\n\", y.head())"
   ]
  },
  {
   "cell_type": "code",
   "execution_count": 21,
   "metadata": {},
   "outputs": [],
   "source": [
    "from sklearn.model_selection import train_test_split\n",
    "X_train, X_test, y_train, y_test = train_test_split(X,y)"
   ]
  },
  {
   "cell_type": "code",
   "execution_count": 22,
   "metadata": {},
   "outputs": [
    {
     "name": "stderr",
     "output_type": "stream",
     "text": [
      "C:\\Users\\Ruddy\\Anaconda3\\lib\\site-packages\\sklearn\\preprocessing\\data.py:645: DataConversionWarning: Data with input dtype int64, float64 were all converted to float64 by StandardScaler.\n",
      "  return self.partial_fit(X, y)\n",
      "C:\\Users\\Ruddy\\Anaconda3\\lib\\site-packages\\ipykernel_launcher.py:7: DataConversionWarning: Data with input dtype int64, float64 were all converted to float64 by StandardScaler.\n",
      "  import sys\n",
      "C:\\Users\\Ruddy\\Anaconda3\\lib\\site-packages\\ipykernel_launcher.py:8: DataConversionWarning: Data with input dtype int64, float64 were all converted to float64 by StandardScaler.\n",
      "  \n"
     ]
    }
   ],
   "source": [
    "#normalize the data for the multilayer perceptron\n",
    "from sklearn.preprocessing import StandardScaler\n",
    "scaler = StandardScaler()\n",
    "scaler.fit(X_train)\n",
    "StandardScaler(copy = True, with_mean=True, with_std=True)\n",
    "#now apply transformations to the data\n",
    "X_train = scaler.transform(X_train)\n",
    "X_test = scaler.transform(X_test)"
   ]
  },
  {
   "cell_type": "code",
   "execution_count": 25,
   "metadata": {},
   "outputs": [
    {
     "data": {
      "text/plain": [
       "array([[-1.73536588, -0.3149854 , -0.26801539, -0.41079568, -0.15782367,\n",
       "         1.13138585,  0.17083344, -1.49856216, -0.44642391, -0.80304908,\n",
       "         0.91368662,  0.50020965, -1.26238652],\n",
       "       [ 0.4864785 ,  0.20087209, -0.01209505,  0.18631717, -0.7875401 ,\n",
       "        -1.46631657, -1.61357944,  0.09145593, -1.70555803,  0.24188427,\n",
       "        -1.10550668, -0.19515432,  0.12253786]])"
      ]
     },
     "execution_count": 25,
     "metadata": {},
     "output_type": "execute_result"
    }
   ],
   "source": [
    "X_train[:2,:]"
   ]
  },
  {
   "cell_type": "code",
   "execution_count": 26,
   "metadata": {},
   "outputs": [],
   "source": [
    "#importing estimator multi-layer perceptro classifier model\n",
    "from sklearn.neural_network import MLPClassifier\n",
    "#creating instance of the model\n",
    "mlp = MLPClassifier(hidden_layer_sizes=(13,13,13), max_iter=500)"
   ]
  },
  {
   "cell_type": "code",
   "execution_count": 27,
   "metadata": {},
   "outputs": [
    {
     "data": {
      "text/plain": [
       "MLPClassifier(activation='relu', alpha=0.0001, batch_size='auto', beta_1=0.9,\n",
       "       beta_2=0.999, early_stopping=False, epsilon=1e-08,\n",
       "       hidden_layer_sizes=(13, 13, 13), learning_rate='constant',\n",
       "       learning_rate_init=0.001, max_iter=500, momentum=0.9,\n",
       "       n_iter_no_change=10, nesterovs_momentum=True, power_t=0.5,\n",
       "       random_state=None, shuffle=True, solver='adam', tol=0.0001,\n",
       "       validation_fraction=0.1, verbose=False, warm_start=False)"
      ]
     },
     "execution_count": 27,
     "metadata": {},
     "output_type": "execute_result"
    }
   ],
   "source": [
    "mlp.fit(X_train,y_train)"
   ]
  },
  {
   "cell_type": "code",
   "execution_count": 28,
   "metadata": {},
   "outputs": [],
   "source": [
    "#get predictions with the model\n",
    "predictions = mlp.predict(X_test)"
   ]
  },
  {
   "cell_type": "code",
   "execution_count": 30,
   "metadata": {},
   "outputs": [
    {
     "name": "stdout",
     "output_type": "stream",
     "text": [
      "[[14  0  0]\n",
      " [ 0 16  0]\n",
      " [ 0  1 14]]\n"
     ]
    }
   ],
   "source": [
    "#building metrics to evaluate how well perfomed the model\n",
    "from sklearn.metrics import classification_report, confusion_matrix\n",
    "print(confusion_matrix(y_test, predictions))"
   ]
  },
  {
   "cell_type": "code",
   "execution_count": 31,
   "metadata": {},
   "outputs": [
    {
     "name": "stdout",
     "output_type": "stream",
     "text": [
      "              precision    recall  f1-score   support\n",
      "\n",
      "           1       1.00      1.00      1.00        14\n",
      "           2       0.94      1.00      0.97        16\n",
      "           3       1.00      0.93      0.97        15\n",
      "\n",
      "   micro avg       0.98      0.98      0.98        45\n",
      "   macro avg       0.98      0.98      0.98        45\n",
      "weighted avg       0.98      0.98      0.98        45\n",
      "\n"
     ]
    }
   ],
   "source": [
    "print(classification_report(y_test,predictions))"
   ]
  },
  {
   "cell_type": "code",
   "execution_count": 32,
   "metadata": {},
   "outputs": [
    {
     "data": {
      "text/plain": [
       "4"
      ]
     },
     "execution_count": 32,
     "metadata": {},
     "output_type": "execute_result"
    }
   ],
   "source": [
    "#extracting MLP weights and biases after training\n",
    "#list of weight matrices, index i represent weight between layer i and layer i+1\n",
    "len(mlp.coefs_)"
   ]
  },
  {
   "cell_type": "code",
   "execution_count": 33,
   "metadata": {},
   "outputs": [
    {
     "data": {
      "text/plain": [
       "[array([[ 2.36991691e-01, -2.13833176e-01, -2.68990170e-01,\n",
       "         -2.95941426e-01,  7.24769314e-02, -2.61764833e-01,\n",
       "          1.65455882e-01,  1.24979492e-01, -3.03802665e-01,\n",
       "          2.66525741e-01,  1.74401223e-01,  6.83879066e-01,\n",
       "          1.35008302e-01],\n",
       "        [ 3.88470911e-01,  1.60202114e-01, -5.00518496e-01,\n",
       "          3.57419942e-01, -2.58559828e-01,  3.51986491e-01,\n",
       "         -3.12738515e-01,  2.20183684e-01, -2.48610115e-01,\n",
       "          2.63858604e-01,  1.24411953e-02,  4.62717519e-01,\n",
       "         -5.51865467e-01],\n",
       "        [ 2.70386417e-01, -2.08031939e-01, -3.75466441e-01,\n",
       "          2.96255558e-01,  9.38233769e-02,  2.83388010e-01,\n",
       "          3.29330229e-02,  8.07806743e-02,  2.58443508e-01,\n",
       "          1.05108351e-01,  6.11405779e-02,  1.55720920e-01,\n",
       "         -6.00758476e-01],\n",
       "        [-2.25793149e-01, -1.27393562e-01,  4.54707348e-01,\n",
       "         -4.51689016e-01, -1.70813330e-01,  1.25598264e-01,\n",
       "         -5.62663435e-01,  3.04389943e-01, -6.31305847e-02,\n",
       "         -3.68924386e-01,  4.29730446e-01,  4.62828336e-02,\n",
       "          4.00248839e-01],\n",
       "        [-4.99364795e-02,  8.03286957e-02, -2.57447347e-01,\n",
       "          1.24386016e-01, -4.46958147e-01,  2.33297365e-01,\n",
       "          5.07352387e-01,  4.65534402e-01,  1.13936457e-01,\n",
       "         -3.98059913e-01, -6.41394572e-01,  3.62138048e-01,\n",
       "         -5.48323169e-01],\n",
       "        [-3.45924753e-02, -2.84172645e-01,  1.89809646e-01,\n",
       "         -1.44306187e-01, -3.83310399e-01, -5.09909783e-01,\n",
       "          8.10129056e-03, -3.50992339e-01, -6.42444570e-01,\n",
       "          2.61698681e-01, -1.72795021e-01, -1.62701081e-01,\n",
       "         -5.06816760e-01],\n",
       "        [-2.10540683e-01, -9.76716222e-02,  1.56775890e-01,\n",
       "          1.81668684e-01,  2.56053373e-01, -5.00928077e-01,\n",
       "          6.04787538e-01, -9.09866084e-02, -5.95075886e-01,\n",
       "          8.55271896e-03, -4.73289695e-02, -1.44023776e-01,\n",
       "         -2.11850374e-01],\n",
       "        [-9.11408787e-02,  2.41295079e-01,  2.70676795e-01,\n",
       "         -1.22005904e-01,  3.85248226e-01,  3.16005657e-02,\n",
       "         -5.94240418e-01,  4.78199314e-01, -1.34046944e-01,\n",
       "         -1.04959992e-01, -3.77581890e-01,  1.89657040e-01,\n",
       "          3.43504014e-01],\n",
       "        [-2.42282736e-01, -5.61837656e-04,  3.53671940e-01,\n",
       "          1.19882538e-02, -3.09006883e-01, -6.49269145e-01,\n",
       "          1.23194308e-01,  3.62317246e-01,  3.45897678e-01,\n",
       "          5.79734479e-01,  3.83275347e-01,  6.73586369e-02,\n",
       "         -6.11850587e-01],\n",
       "        [ 3.49635989e-01,  5.71488123e-01, -5.42516102e-01,\n",
       "          2.17267562e-01, -1.71528047e-01,  5.09323082e-01,\n",
       "          1.83454495e-01, -6.62009535e-01, -1.87911182e-01,\n",
       "         -4.84820046e-01, -5.91830416e-01,  2.53621819e-01,\n",
       "         -1.96871192e-02],\n",
       "        [ 3.08469967e-01, -7.10245106e-01,  1.11732563e-02,\n",
       "          4.22235891e-01,  4.53179513e-01,  2.31658751e-01,\n",
       "          5.45913514e-02, -1.50434570e-01,  3.12880545e-01,\n",
       "         -2.70042189e-01,  7.04272299e-02,  3.94788939e-01,\n",
       "         -3.03146073e-01],\n",
       "        [ 3.72097293e-01, -4.76386777e-01, -3.14456395e-01,\n",
       "         -1.04850864e-01, -2.66565920e-01,  1.39198688e-01,\n",
       "          5.31809713e-01,  1.98050520e-01,  4.32717863e-01,\n",
       "          6.28348832e-02,  2.80860468e-01,  3.15904063e-01,\n",
       "          4.88511360e-01],\n",
       "        [ 3.19838298e-01, -5.27252030e-02, -5.47823805e-01,\n",
       "          5.75027663e-01, -1.97626636e-01, -1.35932891e-01,\n",
       "         -2.49146314e-01,  2.34640266e-01,  1.23123881e-01,\n",
       "         -4.68583771e-01, -3.57992905e-02,  1.93933987e-01,\n",
       "          1.19239016e-01]]),\n",
       " array([[-0.20466702, -0.17010706,  0.47035079,  0.0233158 ,  0.1632412 ,\n",
       "         -0.11316166,  0.69628093,  0.08858981,  0.17784259, -0.04667068,\n",
       "          0.56901773,  0.20444242, -0.55868807],\n",
       "        [-0.26343645, -0.28957152,  0.51140181,  0.01857101, -0.01826265,\n",
       "         -0.08804601, -0.12144769, -0.25883733, -0.1874391 ,  0.18866005,\n",
       "          0.06585467,  0.73086952, -0.29687707],\n",
       "        [ 0.18041974,  0.09234731, -0.36733213, -0.50641202,  0.42372261,\n",
       "          0.24144039, -0.5969401 , -0.27607617, -0.60387395, -0.11958495,\n",
       "         -0.37618445, -0.18818709,  0.63225612],\n",
       "        [-0.13961054, -0.1824536 , -0.33188718,  0.30479633, -0.27204326,\n",
       "         -0.18829203,  0.14626404,  0.25658116, -0.18156044,  0.27874831,\n",
       "          0.51784237, -0.15869641,  0.38082097],\n",
       "        [ 0.44687911,  0.02622827, -0.06790196, -0.12825493,  0.52759513,\n",
       "          0.59657885, -0.10441366,  0.44059714,  0.26700355,  0.67753438,\n",
       "          0.10195017, -0.45712754,  0.01354656],\n",
       "        [-0.28751926, -0.07321068,  0.18107657, -0.26524511, -0.3648457 ,\n",
       "         -0.29667899, -0.07601148,  0.47081811, -0.00396702,  0.18502827,\n",
       "         -0.37742326,  0.49187012, -0.16960341],\n",
       "        [ 0.25343228, -0.25928117, -0.10139641, -0.42521227,  0.42510323,\n",
       "          0.57595627,  0.30279225, -0.25424441,  0.42794517,  0.22479347,\n",
       "          0.63061813, -0.32293453,  0.17036167],\n",
       "        [ 0.57318419, -0.39329033, -0.07499246, -0.11612042,  0.12642892,\n",
       "          0.04955547,  0.40117111, -0.09321342, -0.09991716, -0.03678269,\n",
       "         -0.26382753, -0.10970056,  0.35474365],\n",
       "        [-0.05017278, -0.39543963, -0.23890961,  0.10064046, -0.15538261,\n",
       "          0.04157039, -0.41386683,  0.46387166, -0.02688304, -0.0991128 ,\n",
       "         -0.06307811, -0.30909179,  0.1949794 ],\n",
       "        [ 0.232062  , -0.53746831,  0.04747765,  0.23924192,  0.39247337,\n",
       "         -0.06347029, -0.15159624, -0.18293139,  0.40140784,  0.21803035,\n",
       "          0.12439327, -0.06911223,  0.62242787],\n",
       "        [ 0.65053449,  0.27742563, -0.06467817, -0.36186343,  0.15190666,\n",
       "         -0.22600547,  0.57208244, -0.16345298,  0.15049554, -0.11187601,\n",
       "          0.11210529, -0.26759596,  0.63548639],\n",
       "        [-0.55445503, -0.4247121 , -0.14866911, -0.01381781, -0.04950409,\n",
       "         -0.20453768,  0.12189046, -0.17723966,  0.62936307,  0.10790833,\n",
       "         -0.27745272, -0.01736249, -0.30545338],\n",
       "        [ 0.08331813, -0.18829639,  0.12482584,  0.06060593,  0.42494329,\n",
       "          0.34762415,  0.01612648,  0.55768057, -0.11102728, -0.45303243,\n",
       "         -0.11788955,  0.08771555,  0.37134425]]),\n",
       " array([[-2.58865279e-01,  3.22282283e-03,  1.84163156e-01,\n",
       "         -5.30588288e-01,  4.10597399e-01, -1.86918411e-01,\n",
       "         -4.46288094e-01,  1.98185844e-01,  6.58481637e-01,\n",
       "          2.19959160e-01,  1.23457069e-01,  5.04051818e-01,\n",
       "          6.40760703e-02],\n",
       "        [ 2.46992951e-02,  1.91583166e-01, -2.23579984e-02,\n",
       "         -5.10980030e-01,  2.43263633e-01, -4.65652045e-02,\n",
       "          9.60997694e-02,  1.42519618e-02, -2.39082824e-01,\n",
       "          3.12193744e-01,  4.22342705e-02, -2.61542562e-01,\n",
       "         -8.46043595e-02],\n",
       "        [ 4.97758800e-01, -4.04725436e-01,  2.81995266e-01,\n",
       "         -3.28600746e-01, -9.92577818e-02,  2.23542422e-01,\n",
       "         -8.36157701e-02,  3.57668193e-01, -4.46335342e-01,\n",
       "          2.99712561e-01,  6.78027283e-02, -3.62749357e-01,\n",
       "          4.16562654e-01],\n",
       "        [-2.20788331e-01, -6.13123792e-05, -7.81393322e-02,\n",
       "         -3.18135109e-01, -1.52984630e-01,  4.03423437e-01,\n",
       "         -1.30563268e-04, -2.48782408e-01,  1.54375938e-01,\n",
       "         -4.65622344e-01, -2.93394672e-01, -1.00580781e-01,\n",
       "         -9.83047125e-03],\n",
       "        [ 2.22819012e-01,  7.15888396e-01, -1.28385555e-01,\n",
       "         -3.13593735e-01, -1.54746953e-01,  2.53191957e-01,\n",
       "          2.53714414e-01,  5.07608242e-02,  4.51073268e-01,\n",
       "          3.28385573e-01,  4.92382891e-02,  4.78354481e-01,\n",
       "         -1.48132740e-01],\n",
       "        [-4.96966378e-02,  5.71335560e-01,  2.59179226e-01,\n",
       "         -1.23008235e-02, -8.47632435e-02, -8.89503531e-02,\n",
       "          2.24814189e-01, -3.13425057e-01,  3.40882117e-01,\n",
       "         -2.09722472e-01,  1.93523191e-01,  4.90313549e-01,\n",
       "          1.43179809e-01],\n",
       "        [-3.10626502e-02, -2.91351642e-01,  7.78826101e-02,\n",
       "          5.67298696e-01,  5.09940620e-01,  5.21658140e-02,\n",
       "          3.04457227e-01,  2.62542710e-01, -2.59751694e-01,\n",
       "         -4.53027349e-01,  4.10832622e-01,  9.13348814e-02,\n",
       "         -8.40437479e-02],\n",
       "        [ 1.43986630e-01,  3.86394398e-01,  1.42560645e-01,\n",
       "         -5.27026984e-01, -1.52523074e-01, -7.09613846e-02,\n",
       "          2.76974105e-01,  3.41556890e-01,  6.67836111e-01,\n",
       "         -8.87907408e-02, -2.63543248e-01, -1.97556127e-01,\n",
       "         -5.75853668e-02],\n",
       "        [ 1.94939342e-01, -1.45970534e-01,  3.36014858e-01,\n",
       "          6.10463455e-01,  9.30887313e-02,  3.97219677e-01,\n",
       "          2.46509722e-01,  5.12839207e-01, -3.96701619e-01,\n",
       "          4.04005821e-02,  2.10806026e-01,  5.32193248e-01,\n",
       "          1.68183268e-01],\n",
       "        [ 3.25712683e-02,  4.53411212e-01,  8.82519694e-02,\n",
       "         -2.28956561e-01, -1.77933852e-01,  2.36530988e-01,\n",
       "         -1.75867261e-01, -3.94245054e-01,  1.27776407e-01,\n",
       "         -2.91061059e-02,  7.34276330e-03, -2.15858320e-01,\n",
       "          4.26497630e-02],\n",
       "        [-2.10438914e-01, -2.73800666e-01, -3.65534714e-01,\n",
       "          7.05247414e-02,  3.74603716e-02,  5.40556386e-01,\n",
       "          6.71459903e-01,  1.52552298e-02, -3.38136157e-01,\n",
       "         -5.35166677e-02,  4.21560891e-01,  4.64288977e-01,\n",
       "          1.08617648e-01],\n",
       "        [ 5.20799103e-01, -3.36542259e-01,  3.33580254e-01,\n",
       "         -3.08481279e-01, -2.29181940e-01, -1.96133499e-01,\n",
       "         -1.89756625e-01,  4.43226009e-01, -1.10122761e-01,\n",
       "         -1.88806110e-01, -2.55074200e-01, -3.93398218e-01,\n",
       "          4.33794409e-01],\n",
       "        [-7.04778931e-02, -9.24458775e-02, -3.95594602e-01,\n",
       "          1.29652932e-01,  1.59115824e-02,  5.26694711e-02,\n",
       "         -2.42303611e-01, -3.35192877e-01,  4.33318463e-01,\n",
       "          3.96133779e-01, -3.32642946e-01,  2.23258313e-01,\n",
       "         -8.62264881e-02]]),\n",
       " array([[-0.4541803 ,  0.21056702,  0.31070422],\n",
       "        [-0.52137678,  0.29698194, -0.71194114],\n",
       "        [-0.61731967, -0.61341278,  0.64027635],\n",
       "        [ 0.09886151, -0.6402785 , -0.31219514],\n",
       "        [ 0.32604003,  0.51888525, -0.53618762],\n",
       "        [ 0.32281546, -0.74015803, -0.78115598],\n",
       "        [ 0.41727222, -0.55031723,  0.02964187],\n",
       "        [-0.06796343, -0.73533803,  0.03869243],\n",
       "        [-0.76048209,  0.38156736, -0.43156638],\n",
       "        [-0.41293136,  0.35575665, -0.13847373],\n",
       "        [ 0.1020783 , -0.41694064, -0.21815879],\n",
       "        [ 0.53331689,  0.58672039, -0.35320764],\n",
       "        [-0.64441306, -0.66408077,  0.47449475]])]"
      ]
     },
     "execution_count": 33,
     "metadata": {},
     "output_type": "execute_result"
    }
   ],
   "source": [
    "mlp.coefs_"
   ]
  },
  {
   "cell_type": "code",
   "execution_count": 34,
   "metadata": {},
   "outputs": [
    {
     "data": {
      "text/plain": [
       "13"
      ]
     },
     "execution_count": 34,
     "metadata": {},
     "output_type": "execute_result"
    }
   ],
   "source": [
    "len(mlp.intercepts_[0])"
   ]
  },
  {
   "cell_type": "code",
   "execution_count": 36,
   "metadata": {},
   "outputs": [
    {
     "data": {
      "text/plain": [
       "array([ 0.09288788, -0.33927401,  0.17257975,  0.25341906, -0.00515446,\n",
       "        0.16048348,  0.16710123, -0.04747153, -0.37749517,  0.05811261,\n",
       "        0.23863406, -0.05386561,  0.01782955])"
      ]
     },
     "execution_count": 36,
     "metadata": {},
     "output_type": "execute_result"
    }
   ],
   "source": [
    "mlp.intercepts_[0]"
   ]
  }
 ],
 "metadata": {
  "kernelspec": {
   "display_name": "Python 3",
   "language": "python",
   "name": "python3"
  },
  "language_info": {
   "codemirror_mode": {
    "name": "ipython",
    "version": 3
   },
   "file_extension": ".py",
   "mimetype": "text/x-python",
   "name": "python",
   "nbconvert_exporter": "python",
   "pygments_lexer": "ipython3",
   "version": "3.6.8"
  }
 },
 "nbformat": 4,
 "nbformat_minor": 2
}
